{
 "cells": [
  {
   "cell_type": "code",
   "execution_count": 1,
   "metadata": {},
   "outputs": [],
   "source": [
    "import pandas as pd\n",
    "import json\n",
    "import pickle\n",
    "from tqdm import tqdm"
   ]
  },
  {
   "cell_type": "code",
   "execution_count": 2,
   "metadata": {},
   "outputs": [],
   "source": [
    "# Original files:\n",
    "# - Fib-25: Fib-25/Fib25.txt\n",
    "# - LGN: LGN/LGN.txt\n",
    "# - Janelia: Janelia/Janelia.json\n",
    "\n",
    "Fib_org = 'Fib-25/Fib25.txt'\n",
    "LGN_org = 'LGN/LGN.txt'\n",
    "Janelia_org = 'Janelia/Janelia.json'\n",
    "PATH = 'PDM/PART1/datasets/'"
   ]
  },
  {
   "cell_type": "markdown",
   "metadata": {},
   "source": [
    "# Check Fib-25"
   ]
  },
  {
   "cell_type": "code",
   "execution_count": 39,
   "metadata": {},
   "outputs": [
    {
     "name": "stderr",
     "output_type": "stream",
     "text": [
      "100%|██████████| 9515/9515 [00:15<00:00, 611.47it/s]\n"
     ]
    }
   ],
   "source": [
    "f = open(Fib_org, 'r')\n",
    "n_nodes = f.readline()\n",
    "n_edges = f.readline()\n",
    "\n",
    "edge_list_f = pd.DataFrame(columns=['source', 'target', 'weight'])\n",
    "for l in tqdm(f.readlines()):\n",
    "    _list = l.split(',')\n",
    "    if _list[0] != _list[1]:\n",
    "        edge_list_f = edge_list_f.append({k: int(_list[i].rstrip('\\n')) for i, k in enumerate(edge_list_f.columns)}, ignore_index=True)\n"
   ]
  },
  {
   "cell_type": "code",
   "execution_count": 40,
   "metadata": {},
   "outputs": [
    {
     "name": "stderr",
     "output_type": "stream",
     "text": [
      "100%|██████████| 749/749 [00:00<00:00, 868066.79it/s]\n"
     ]
    }
   ],
   "source": [
    "# Make unique fragment IDs from 1-n+1\n",
    "set_frag = list(set(edge_list_f.source.unique())|set(edge_list_f.target.unique()))\n",
    "n_frag = len(set_frag)\n",
    "dict_frag = {set_frag[i]: i+1 for i in tqdm(range(n_frag))}\n",
    "edge_list_f.source = edge_list_f.source.map(dict_frag)\n",
    "edge_list_f.target = edge_list_f.target.map(dict_frag)"
   ]
  },
  {
   "cell_type": "code",
   "execution_count": 41,
   "metadata": {
    "scrolled": true
   },
   "outputs": [
    {
     "data": {
      "text/html": [
       "<div>\n",
       "<style>\n",
       "    .dataframe thead tr:only-child th {\n",
       "        text-align: right;\n",
       "    }\n",
       "\n",
       "    .dataframe thead th {\n",
       "        text-align: left;\n",
       "    }\n",
       "\n",
       "    .dataframe tbody tr th {\n",
       "        vertical-align: top;\n",
       "    }\n",
       "</style>\n",
       "<table border=\"1\" class=\"dataframe\">\n",
       "  <thead>\n",
       "    <tr style=\"text-align: right;\">\n",
       "      <th></th>\n",
       "      <th>source</th>\n",
       "      <th>target</th>\n",
       "      <th>weight</th>\n",
       "    </tr>\n",
       "  </thead>\n",
       "  <tbody>\n",
       "  </tbody>\n",
       "</table>\n",
       "</div>"
      ],
      "text/plain": [
       "Empty DataFrame\n",
       "Columns: [source, target, weight]\n",
       "Index: []"
      ]
     },
     "execution_count": 41,
     "metadata": {},
     "output_type": "execute_result"
    }
   ],
   "source": [
    "# Check for repeated connections\n",
    "edge_list_f[edge_list_f.duplicated(keep=False)]"
   ]
  },
  {
   "cell_type": "code",
   "execution_count": 42,
   "metadata": {},
   "outputs": [
    {
     "data": {
      "text/html": [
       "<div>\n",
       "<style>\n",
       "    .dataframe thead tr:only-child th {\n",
       "        text-align: right;\n",
       "    }\n",
       "\n",
       "    .dataframe thead th {\n",
       "        text-align: left;\n",
       "    }\n",
       "\n",
       "    .dataframe tbody tr th {\n",
       "        vertical-align: top;\n",
       "    }\n",
       "</style>\n",
       "<table border=\"1\" class=\"dataframe\">\n",
       "  <thead>\n",
       "    <tr style=\"text-align: right;\">\n",
       "      <th></th>\n",
       "      <th>source</th>\n",
       "      <th>target</th>\n",
       "      <th>weight</th>\n",
       "    </tr>\n",
       "  </thead>\n",
       "  <tbody>\n",
       "  </tbody>\n",
       "</table>\n",
       "</div>"
      ],
      "text/plain": [
       "Empty DataFrame\n",
       "Columns: [source, target, weight]\n",
       "Index: []"
      ]
     },
     "execution_count": 42,
     "metadata": {},
     "output_type": "execute_result"
    }
   ],
   "source": [
    "# Check for connections that are both ways\n",
    "edge_list_f[(edge_list_f[['target', 'source']].values == edge_list_f[['source', 'target']]).source]"
   ]
  },
  {
   "cell_type": "code",
   "execution_count": 43,
   "metadata": {},
   "outputs": [
    {
     "name": "stdout",
     "output_type": "stream",
     "text": [
      "edges : 9515\n",
      "nodes : 749\n",
      "mean weight : 3.282816605359958\n",
      "max weight : 188\n"
     ]
    }
   ],
   "source": [
    "print('edges : {}'.format(len(edge_list_f)))\n",
    "print('nodes : {}'.format(max(edge_list_f.source.max(), edge_list_f.target.max())))\n",
    "print('mean weight : {}'.format(edge_list_f.weight.mean()))\n",
    "print('max weight : {}'.format(edge_list_f.weight.max()))"
   ]
  },
  {
   "cell_type": "code",
   "execution_count": 51,
   "metadata": {},
   "outputs": [],
   "source": [
    "reduced_edge_list_f = edge_list_f[edge_list_f.weight>5]"
   ]
  },
  {
   "cell_type": "code",
   "execution_count": 52,
   "metadata": {},
   "outputs": [
    {
     "name": "stderr",
     "output_type": "stream",
     "text": [
      "100%|██████████| 474/474 [00:00<00:00, 889530.24it/s]\n",
      "/Users/antoine/anaconda/lib/python3.6/site-packages/pandas/core/generic.py:3110: SettingWithCopyWarning: \n",
      "A value is trying to be set on a copy of a slice from a DataFrame.\n",
      "Try using .loc[row_indexer,col_indexer] = value instead\n",
      "\n",
      "See the caveats in the documentation: http://pandas.pydata.org/pandas-docs/stable/indexing.html#indexing-view-versus-copy\n",
      "  self[name] = value\n"
     ]
    }
   ],
   "source": [
    "# Make unique fragment IDs from 1-n+1\n",
    "set_frag = list(set(reduced_edge_list_f.source.unique())|set(reduced_edge_list_f.target.unique()))\n",
    "n_frag = len(set_frag)\n",
    "dict_frag = {set_frag[i]: i+1 for i in tqdm(range(n_frag))}\n",
    "reduced_edge_list_f.source = reduced_edge_list_f.source.map(dict_frag)\n",
    "reduced_edge_list_f.target = reduced_edge_list_f.target.map(dict_frag)"
   ]
  },
  {
   "cell_type": "code",
   "execution_count": 53,
   "metadata": {},
   "outputs": [
    {
     "name": "stdout",
     "output_type": "stream",
     "text": [
      "edges : 1141\n",
      "nodes : 474\n"
     ]
    }
   ],
   "source": [
    "print('edges : {}'.format(len(reduced_edge_list_f)))\n",
    "print('nodes : {}'.format(max(reduced_edge_list_f.source.max(), reduced_edge_list_f.target.max())))"
   ]
  },
  {
   "cell_type": "markdown",
   "metadata": {},
   "source": [
    "# Check LGN"
   ]
  },
  {
   "cell_type": "code",
   "execution_count": 15,
   "metadata": {
    "scrolled": true
   },
   "outputs": [
    {
     "name": "stderr",
     "output_type": "stream",
     "text": [
      "100%|██████████| 818/818 [00:01<00:00, 448.35it/s]\n"
     ]
    }
   ],
   "source": [
    "f = open(LGN_org, 'r')\n",
    "n_nodes = f.readline()\n",
    "n_edges = f.readline()\n",
    "\n",
    "edge_list_l = pd.DataFrame(columns=['source', 'target', 'weight'])\n",
    "for l in tqdm(f.readlines()):\n",
    "    _list = l.split('\\t')\n",
    "    if _list[0] != _list[1]:\n",
    "        edge_list_l = edge_list_l.append({k: _list[i].rstrip('\\n') for i, k in enumerate(edge_list_l.columns)}, ignore_index=True)"
   ]
  },
  {
   "cell_type": "code",
   "execution_count": 16,
   "metadata": {},
   "outputs": [
    {
     "name": "stderr",
     "output_type": "stream",
     "text": [
      "100%|██████████| 420/420 [00:00<00:00, 862687.40it/s]\n"
     ]
    }
   ],
   "source": [
    "# Make unique fragment IDs from 1-n+1\n",
    "set_frag = list(set(edge_list_l.source.unique())|set(edge_list_l.target.unique()))\n",
    "n_frag = len(set_frag)\n",
    "dict_frag = {set_frag[i]: i+1 for i in tqdm(range(n_frag))}\n",
    "edge_list_l.source = edge_list_l.source.map(dict_frag)\n",
    "edge_list_l.target = edge_list_l.target.map(dict_frag)"
   ]
  },
  {
   "cell_type": "code",
   "execution_count": 17,
   "metadata": {
    "scrolled": true
   },
   "outputs": [
    {
     "data": {
      "text/html": [
       "<div>\n",
       "<style>\n",
       "    .dataframe thead tr:only-child th {\n",
       "        text-align: right;\n",
       "    }\n",
       "\n",
       "    .dataframe thead th {\n",
       "        text-align: left;\n",
       "    }\n",
       "\n",
       "    .dataframe tbody tr th {\n",
       "        vertical-align: top;\n",
       "    }\n",
       "</style>\n",
       "<table border=\"1\" class=\"dataframe\">\n",
       "  <thead>\n",
       "    <tr style=\"text-align: right;\">\n",
       "      <th></th>\n",
       "      <th>source</th>\n",
       "      <th>target</th>\n",
       "      <th>weight</th>\n",
       "    </tr>\n",
       "  </thead>\n",
       "  <tbody>\n",
       "  </tbody>\n",
       "</table>\n",
       "</div>"
      ],
      "text/plain": [
       "Empty DataFrame\n",
       "Columns: [source, target, weight]\n",
       "Index: []"
      ]
     },
     "execution_count": 17,
     "metadata": {},
     "output_type": "execute_result"
    }
   ],
   "source": [
    "# Check for repeated connections\n",
    "edge_list_l[edge_list_l.duplicated(keep='first')]"
   ]
  },
  {
   "cell_type": "code",
   "execution_count": 18,
   "metadata": {},
   "outputs": [
    {
     "data": {
      "text/html": [
       "<div>\n",
       "<style>\n",
       "    .dataframe thead tr:only-child th {\n",
       "        text-align: right;\n",
       "    }\n",
       "\n",
       "    .dataframe thead th {\n",
       "        text-align: left;\n",
       "    }\n",
       "\n",
       "    .dataframe tbody tr th {\n",
       "        vertical-align: top;\n",
       "    }\n",
       "</style>\n",
       "<table border=\"1\" class=\"dataframe\">\n",
       "  <thead>\n",
       "    <tr style=\"text-align: right;\">\n",
       "      <th></th>\n",
       "      <th>target</th>\n",
       "      <th>source</th>\n",
       "      <th>weight</th>\n",
       "    </tr>\n",
       "  </thead>\n",
       "  <tbody>\n",
       "  </tbody>\n",
       "</table>\n",
       "</div>"
      ],
      "text/plain": [
       "Empty DataFrame\n",
       "Columns: [target, source, weight]\n",
       "Index: []"
      ]
     },
     "execution_count": 18,
     "metadata": {},
     "output_type": "execute_result"
    }
   ],
   "source": [
    "# Check for connections that are both ways\n",
    "tmp = pd.DataFrame(edge_list_l)\n",
    "tmp.columns = ['target', 'source', 'weight']\n",
    "tmp.append(edge_list_l, ignore_index=True)\n",
    "tmp[tmp.duplicated(keep=False)]"
   ]
  },
  {
   "cell_type": "code",
   "execution_count": null,
   "metadata": {},
   "outputs": [],
   "source": [
    "edge_list_l.source"
   ]
  },
  {
   "cell_type": "code",
   "execution_count": 19,
   "metadata": {},
   "outputs": [
    {
     "name": "stdout",
     "output_type": "stream",
     "text": [
      "edges : 818\n",
      "nodes : 420\n"
     ]
    }
   ],
   "source": [
    "print('edges : {}'.format(len(edge_list_l)))\n",
    "print('nodes : {}'.format(max(edge_list_l.source.max(), edge_list_l.target.max())))"
   ]
  },
  {
   "cell_type": "markdown",
   "metadata": {},
   "source": [
    "# Check Janelia"
   ]
  },
  {
   "cell_type": "code",
   "execution_count": 20,
   "metadata": {},
   "outputs": [],
   "source": [
    "f = json.load(open(Janelia_org, 'r'))"
   ]
  },
  {
   "cell_type": "code",
   "execution_count": null,
   "metadata": {},
   "outputs": [],
   "source": [
    "edge_list = pd.DataFrame(columns=['source', 'target'])\n",
    "n = len(f['data'])\n",
    "for d in tqdm(f['data']):\n",
    "    #d = f['data'][i]\n",
    "    e = {'source': d['T-bar']['body ID']}\n",
    "    if d['partners']:\n",
    "        for p in d['partners']:\n",
    "            e['target'] = p['body ID']\n",
    "            edge_list = edge_list.append(e, ignore_index=True)\n",
    "backup = pd.DataFrame(edge_list)\n",
    "pickle.dump(backup, open('Janelia/pickled_df.p', 'wb+'))"
   ]
  },
  {
   "cell_type": "code",
   "execution_count": 21,
   "metadata": {},
   "outputs": [],
   "source": [
    "# Load pickled df\n",
    "edge_list = pickle.load(open('Janelia/pickled_df.p', 'rb'))"
   ]
  },
  {
   "cell_type": "code",
   "execution_count": 22,
   "metadata": {},
   "outputs": [
    {
     "name": "stderr",
     "output_type": "stream",
     "text": [
      "100%|██████████| 92133/92133 [00:00<00:00, 1413711.55it/s]\n"
     ]
    }
   ],
   "source": [
    "# Make unique fragment IDs from 1-n+1\n",
    "set_frag = list(set(edge_list.source.unique())|set(edge_list.target.unique()))\n",
    "n_frag = len(set_frag)\n",
    "dict_frag = {set_frag[i]: i+1 for i in tqdm(range(n_frag))}\n",
    "edge_list.source = edge_list.source.map(dict_frag)\n",
    "edge_list.target = edge_list.target.map(dict_frag)"
   ]
  },
  {
   "cell_type": "code",
   "execution_count": 23,
   "metadata": {},
   "outputs": [],
   "source": [
    "source_not_target_bool = ~(edge_list.source == edge_list.target)\n",
    "edge_list = edge_list[source_not_target_bool]\n",
    "edge_list['weight'] = 1\n",
    "weighted_edge_list = edge_list.groupby(['source', 'target']).count().reset_index()"
   ]
  },
  {
   "cell_type": "code",
   "execution_count": 24,
   "metadata": {},
   "outputs": [
    {
     "data": {
      "text/html": [
       "<div>\n",
       "<style>\n",
       "    .dataframe thead tr:only-child th {\n",
       "        text-align: right;\n",
       "    }\n",
       "\n",
       "    .dataframe thead th {\n",
       "        text-align: left;\n",
       "    }\n",
       "\n",
       "    .dataframe tbody tr th {\n",
       "        vertical-align: top;\n",
       "    }\n",
       "</style>\n",
       "<table border=\"1\" class=\"dataframe\">\n",
       "  <thead>\n",
       "    <tr style=\"text-align: right;\">\n",
       "      <th></th>\n",
       "      <th>source</th>\n",
       "      <th>target</th>\n",
       "      <th>weight</th>\n",
       "    </tr>\n",
       "  </thead>\n",
       "  <tbody>\n",
       "  </tbody>\n",
       "</table>\n",
       "</div>"
      ],
      "text/plain": [
       "Empty DataFrame\n",
       "Columns: [source, target, weight]\n",
       "Index: []"
      ]
     },
     "execution_count": 24,
     "metadata": {},
     "output_type": "execute_result"
    }
   ],
   "source": [
    "# Check for repeated connections\n",
    "weighted_edge_list[weighted_edge_list.duplicated(keep=False)]"
   ]
  },
  {
   "cell_type": "code",
   "execution_count": 25,
   "metadata": {},
   "outputs": [
    {
     "data": {
      "text/html": [
       "<div>\n",
       "<style>\n",
       "    .dataframe thead tr:only-child th {\n",
       "        text-align: right;\n",
       "    }\n",
       "\n",
       "    .dataframe thead th {\n",
       "        text-align: left;\n",
       "    }\n",
       "\n",
       "    .dataframe tbody tr th {\n",
       "        vertical-align: top;\n",
       "    }\n",
       "</style>\n",
       "<table border=\"1\" class=\"dataframe\">\n",
       "  <thead>\n",
       "    <tr style=\"text-align: right;\">\n",
       "      <th></th>\n",
       "      <th>target</th>\n",
       "      <th>source</th>\n",
       "      <th>weight</th>\n",
       "    </tr>\n",
       "  </thead>\n",
       "  <tbody>\n",
       "  </tbody>\n",
       "</table>\n",
       "</div>"
      ],
      "text/plain": [
       "Empty DataFrame\n",
       "Columns: [target, source, weight]\n",
       "Index: []"
      ]
     },
     "execution_count": 25,
     "metadata": {},
     "output_type": "execute_result"
    }
   ],
   "source": [
    "# Check for connections that are both ways\n",
    "tmp = pd.DataFrame(weighted_edge_list)\n",
    "tmp.columns = ['target', 'source', 'weight']\n",
    "tmp.append(weighted_edge_list, ignore_index=True)\n",
    "tmp[tmp.duplicated(keep=False)]"
   ]
  },
  {
   "cell_type": "code",
   "execution_count": 28,
   "metadata": {},
   "outputs": [],
   "source": [
    "reduced_edge_list = weighted_edge_list.loc[weighted_edge_list.weight>15]"
   ]
  },
  {
   "cell_type": "code",
   "execution_count": 29,
   "metadata": {},
   "outputs": [
    {
     "name": "stderr",
     "output_type": "stream",
     "text": [
      "100%|██████████| 460/460 [00:00<00:00, 699811.33it/s]\n",
      "/Users/antoine/anaconda/lib/python3.6/site-packages/pandas/core/generic.py:3110: SettingWithCopyWarning: \n",
      "A value is trying to be set on a copy of a slice from a DataFrame.\n",
      "Try using .loc[row_indexer,col_indexer] = value instead\n",
      "\n",
      "See the caveats in the documentation: http://pandas.pydata.org/pandas-docs/stable/indexing.html#indexing-view-versus-copy\n",
      "  self[name] = value\n"
     ]
    }
   ],
   "source": [
    "# Make unique fragment IDs from 1-n+1\n",
    "set_frag = list(set(reduced_edge_list.source.unique())|set(reduced_edge_list.target.unique()))\n",
    "n_frag = len(set_frag)\n",
    "dict_frag = {set_frag[i]: i+1 for i in tqdm(range(n_frag))}\n",
    "reduced_edge_list.source = reduced_edge_list.source.map(dict_frag)\n",
    "reduced_edge_list.target = reduced_edge_list.target.map(dict_frag)"
   ]
  },
  {
   "cell_type": "code",
   "execution_count": 30,
   "metadata": {},
   "outputs": [
    {
     "name": "stdout",
     "output_type": "stream",
     "text": [
      "edges : 889\n",
      "nodes : 460\n"
     ]
    }
   ],
   "source": [
    "print('edges : {}'.format(len(reduced_edge_list)))\n",
    "print('nodes : {}'.format(max(reduced_edge_list.source.max(), reduced_edge_list.target.max())))"
   ]
  },
  {
   "cell_type": "code",
   "execution_count": null,
   "metadata": {},
   "outputs": [],
   "source": []
  }
 ],
 "metadata": {
  "kernelspec": {
   "display_name": "Python 3",
   "language": "python",
   "name": "python3"
  },
  "language_info": {
   "codemirror_mode": {
    "name": "ipython",
    "version": 3
   },
   "file_extension": ".py",
   "mimetype": "text/x-python",
   "name": "python",
   "nbconvert_exporter": "python",
   "pygments_lexer": "ipython3",
   "version": "3.6.8"
  },
  "latex_envs": {
   "LaTeX_envs_menu_present": true,
   "autocomplete": true,
   "bibliofile": "biblio.bib",
   "cite_by": "apalike",
   "current_citInitial": 1,
   "eqLabelWithNumbers": true,
   "eqNumInitial": 1,
   "hotkeys": {
    "equation": "Ctrl-E",
    "itemize": "Ctrl-I"
   },
   "labels_anchors": false,
   "latex_user_defs": false,
   "report_style_numbering": false,
   "user_envs_cfg": false
  },
  "varInspector": {
   "cols": {
    "lenName": 16,
    "lenType": 16,
    "lenVar": 40
   },
   "kernels_config": {
    "python": {
     "delete_cmd_postfix": "",
     "delete_cmd_prefix": "del ",
     "library": "var_list.py",
     "varRefreshCmd": "print(var_dic_list())"
    },
    "r": {
     "delete_cmd_postfix": ") ",
     "delete_cmd_prefix": "rm(",
     "library": "var_list.r",
     "varRefreshCmd": "cat(var_dic_list()) "
    }
   },
   "types_to_exclude": [
    "module",
    "function",
    "builtin_function_or_method",
    "instance",
    "_Feature"
   ],
   "window_display": false
  }
 },
 "nbformat": 4,
 "nbformat_minor": 2
}
