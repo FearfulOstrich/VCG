{
 "cells": [
  {
   "cell_type": "code",
   "execution_count": 1,
   "metadata": {},
   "outputs": [],
   "source": [
    "from graphviz import Digraph, render\n",
    "import pandas as pd\n",
    "from tqdm import tqdm"
   ]
  },
  {
   "cell_type": "code",
   "execution_count": 58,
   "metadata": {},
   "outputs": [],
   "source": [
    "def readEdgeList(fname):\n",
    "\n",
    "    f = open(fname, 'r')\n",
    "    f.readline()\n",
    "    edges = pd.DataFrame(columns=['source', 'target'])\n",
    "\n",
    "#     print('Reading edge list.')\n",
    "    for l in tqdm(f.readlines()):\n",
    "        _list = l.rstrip('\\n').split('\\t')\n",
    "        edges = edges.append({k: int(_list[i]) for i, k in enumerate(edges.columns)}, ignore_index=True)\n",
    "        \n",
    "    return edges\n",
    "\n",
    "\n",
    "def readFile(fname):\n",
    "\n",
    "\tf = open(fname, 'r')\n",
    "\n",
    "\tcolors = []\n",
    "\tprint('Reading colors.')\n",
    "\tfor l in tqdm(f.readlines()):\n",
    "\t\tcolors.append(int(l))\n",
    "\n",
    "\tcolor_set = list(set(colors))\n",
    "# \tprint('color_set : {}'.format(color_set))\n",
    "\tcolor_reset_dict = {color_set[i]: i for i in range(len(color_set))}\n",
    "# \tprint('color_reset_dict : {}'.format(color_reset_dict))\n",
    "\treturn {j+1: color_reset_dict[colors[j]] for j in range(len(colors))}\n",
    "\n",
    "\n",
    "def cluster(color_dict, edges):\n",
    "\n",
    "    edges['source_c'] = edges['source'].replace(color_dict)\n",
    "    edges['target_c'] = edges.target.replace(color_dict)\n",
    "    \n",
    "#     print(edges['source_c'])\n",
    "\n",
    "    color_bool = (edges.source_c == edges.target_c)\n",
    "    print('Number of edges left: {:.2f}%'.format(color_bool.sum()*100/len(color_bool)))\n",
    "    edges = edges[color_bool]\n",
    "\n",
    "    return edges\n",
    "\n",
    "def visualize(edges):\n",
    "\n",
    "\tprint('Visualizing all colours.')\n",
    "\tfor c in tqdm(edges.source_c.unique()):\n",
    "\t\ttmp_df = edges[edges.source_c == c]\n",
    "\t\tif not tmp_df.empty:\n",
    "\t\t\tg = Digraph()\n",
    "\t\t\tfor ix in tmp_df.index:\n",
    "\t\t\t\tg.edge(str(tmp_df.loc[ix, 'source']), str(tmp_df.loc[ix, 'target']))\n",
    "\n",
    "\t\t\tg.render(filename='clusters/LGN/cluster{}'.format(c))"
   ]
  },
  {
   "cell_type": "code",
   "execution_count": 45,
   "metadata": {},
   "outputs": [],
   "source": [
    "fname = 'clusters/LGN/colors.txt'\n",
    "fname2 = '../datasets/LGN.txt'\n"
   ]
  },
  {
   "cell_type": "code",
   "execution_count": 46,
   "metadata": {
    "scrolled": true
   },
   "outputs": [
    {
     "name": "stderr",
     "output_type": "stream",
     "text": [
      "100%|██████████| 422/422 [00:00<00:00, 689788.11it/s]"
     ]
    },
    {
     "name": "stdout",
     "output_type": "stream",
     "text": [
      "Reading colors.\n",
      "color dict: {1: 0, 2: 1, 3: 1, 4: 2, 5: 0, 6: 0, 7: 0, 8: 0, 9: 0, 10: 0, 11: 0, 12: 0, 13: 10, 14: 0, 15: 0, 16: 0, 17: 0, 18: 0, 19: 0, 20: 0, 21: 0, 22: 0, 23: 0, 24: 0, 25: 0, 26: 0, 27: 0, 28: 16, 29: 16, 30: 16, 31: 16, 32: 0, 33: 16, 34: 0, 35: 0, 36: 0, 37: 0, 38: 0, 39: 5, 40: 0, 41: 0, 42: 16, 43: 16, 44: 0, 45: 0, 46: 16, 47: 16, 48: 0, 49: 16, 50: 16, 51: 0, 52: 16, 53: 0, 54: 16, 55: 16, 56: 16, 57: 0, 58: 16, 59: 15, 60: 15, 61: 0, 62: 10, 63: 10, 64: 16, 65: 16, 66: 10, 67: 10, 68: 10, 69: 16, 70: 4, 71: 0, 72: 0, 73: 0, 74: 16, 75: 16, 76: 16, 77: 16, 78: 4, 79: 0, 80: 0, 81: 0, 82: 0, 83: 0, 84: 0, 85: 0, 86: 0, 87: 0, 88: 0, 89: 0, 90: 0, 91: 0, 92: 0, 93: 0, 94: 0, 95: 0, 96: 0, 97: 0, 98: 0, 99: 0, 100: 0, 101: 0, 102: 0, 103: 6, 104: 0, 105: 0, 106: 0, 107: 0, 108: 6, 109: 6, 110: 0, 111: 0, 112: 0, 113: 0, 114: 0, 115: 0, 116: 0, 117: 0, 118: 0, 119: 0, 120: 0, 121: 0, 122: 0, 123: 0, 124: 0, 125: 0, 126: 0, 127: 0, 128: 0, 129: 0, 130: 0, 131: 0, 132: 0, 133: 0, 134: 0, 135: 0, 136: 0, 137: 0, 138: 0, 139: 0, 140: 0, 141: 0, 142: 0, 143: 0, 144: 0, 145: 0, 146: 0, 147: 0, 148: 0, 149: 0, 150: 0, 151: 0, 152: 0, 153: 0, 154: 0, 155: 1, 156: 1, 157: 1, 158: 1, 159: 1, 160: 2, 161: 2, 162: 2, 163: 2, 164: 2, 165: 2, 166: 2, 167: 2, 168: 2, 169: 2, 170: 0, 171: 0, 172: 0, 173: 0, 174: 2, 175: 2, 176: 2, 177: 0, 178: 0, 179: 0, 180: 0, 181: 0, 182: 0, 183: 0, 184: 0, 185: 5, 186: 5, 187: 5, 188: 5, 189: 0, 190: 16, 191: 1, 192: 1, 193: 1, 194: 1, 195: 1, 196: 1, 197: 3, 198: 3, 199: 3, 200: 3, 201: 1, 202: 1, 203: 1, 204: 1, 205: 1, 206: 1, 207: 1, 208: 1, 209: 1, 210: 1, 211: 1, 212: 1, 213: 1, 214: 1, 215: 1, 216: 1, 217: 1, 218: 1, 219: 8, 220: 1, 221: 16, 222: 10, 223: 0, 224: 16, 225: 0, 226: 10, 227: 0, 228: 10, 229: 10, 230: 10, 231: 10, 232: 10, 233: 10, 234: 0, 235: 10, 236: 10, 237: 10, 238: 16, 239: 16, 240: 16, 241: 16, 242: 16, 243: 16, 244: 16, 245: 16, 246: 10, 247: 10, 248: 10, 249: 10, 250: 14, 251: 2, 252: 2, 253: 2, 254: 17, 255: 16, 256: 16, 257: 14, 258: 16, 259: 14, 260: 16, 261: 14, 262: 14, 263: 7, 264: 16, 265: 14, 266: 10, 267: 16, 268: 14, 269: 16, 270: 16, 271: 16, 272: 16, 273: 10, 274: 0, 275: 0, 276: 16, 277: 16, 278: 16, 279: 16, 280: 16, 281: 16, 282: 16, 283: 16, 284: 16, 285: 16, 286: 16, 287: 16, 288: 16, 289: 16, 290: 10, 291: 15, 292: 14, 293: 16, 294: 16, 295: 16, 296: 16, 297: 10, 298: 10, 299: 16, 300: 0, 301: 16, 302: 16, 303: 0, 304: 0, 305: 0, 306: 0, 307: 0, 308: 0, 309: 0, 310: 0, 311: 0, 312: 0, 313: 0, 314: 0, 315: 0, 316: 0, 317: 0, 318: 0, 319: 0, 320: 0, 321: 0, 322: 0, 323: 0, 324: 0, 325: 0, 326: 0, 327: 0, 328: 0, 329: 0, 330: 0, 331: 0, 332: 0, 333: 0, 334: 0, 335: 0, 336: 0, 337: 0, 338: 0, 339: 0, 340: 0, 341: 0, 342: 0, 343: 13, 344: 1, 345: 2, 346: 2, 347: 0, 348: 16, 349: 5, 350: 5, 351: 5, 352: 0, 353: 16, 354: 0, 355: 1, 356: 1, 357: 9, 358: 3, 359: 8, 360: 8, 361: 8, 362: 8, 363: 8, 364: 8, 365: 8, 366: 8, 367: 8, 368: 11, 369: 11, 370: 11, 371: 1, 372: 12, 373: 15, 374: 16, 375: 10, 376: 10, 377: 10, 378: 10, 379: 10, 380: 10, 381: 16, 382: 16, 383: 16, 384: 10, 385: 0, 386: 16, 387: 16, 388: 16, 389: 16, 390: 16, 391: 0, 392: 16, 393: 0, 394: 10, 395: 16, 396: 0, 397: 0, 398: 0, 399: 0, 400: 0, 401: 0, 402: 0, 403: 0, 404: 0, 405: 0, 406: 0, 407: 0, 408: 0, 409: 0, 410: 2, 411: 0, 412: 0, 413: 5, 414: 5, 415: 0, 416: 1, 417: 1, 418: 0, 419: 10, 420: 10, 421: 0, 422: 0}\n"
     ]
    },
    {
     "name": "stderr",
     "output_type": "stream",
     "text": [
      "\n"
     ]
    }
   ],
   "source": [
    "color_dict = readFile(fname)\n",
    "print('color dict: {}'.format(color_dict))"
   ]
  },
  {
   "cell_type": "code",
   "execution_count": 51,
   "metadata": {},
   "outputs": [
    {
     "name": "stderr",
     "output_type": "stream",
     "text": [
      "100%|██████████| 820/820 [00:01<00:00, 629.94it/s]\n"
     ]
    }
   ],
   "source": [
    "edges = readEdgeList(fname2)"
   ]
  },
  {
   "cell_type": "code",
   "execution_count": 55,
   "metadata": {},
   "outputs": [
    {
     "name": "stdout",
     "output_type": "stream",
     "text": [
      "Number of edges left: 66.46%\n"
     ]
    }
   ],
   "source": [
    "e = cluster(color_dict, edges)"
   ]
  },
  {
   "cell_type": "code",
   "execution_count": 59,
   "metadata": {},
   "outputs": [
    {
     "name": "stderr",
     "output_type": "stream",
     "text": [
      "  6%|▋         | 1/16 [00:00<00:02,  5.12it/s]"
     ]
    },
    {
     "name": "stdout",
     "output_type": "stream",
     "text": [
      "Visualizing all colours.\n"
     ]
    },
    {
     "name": "stderr",
     "output_type": "stream",
     "text": [
      "100%|██████████| 16/16 [00:00<00:00, 17.04it/s]\n"
     ]
    }
   ],
   "source": [
    "visualize(edges)"
   ]
  },
  {
   "cell_type": "code",
   "execution_count": null,
   "metadata": {},
   "outputs": [],
   "source": []
  }
 ],
 "metadata": {
  "kernelspec": {
   "display_name": "Python 3",
   "language": "python",
   "name": "python3"
  },
  "language_info": {
   "codemirror_mode": {
    "name": "ipython",
    "version": 3
   },
   "file_extension": ".py",
   "mimetype": "text/x-python",
   "name": "python",
   "nbconvert_exporter": "python",
   "pygments_lexer": "ipython3",
   "version": "3.6.8"
  },
  "latex_envs": {
   "LaTeX_envs_menu_present": true,
   "autocomplete": true,
   "bibliofile": "biblio.bib",
   "cite_by": "apalike",
   "current_citInitial": 1,
   "eqLabelWithNumbers": true,
   "eqNumInitial": 1,
   "hotkeys": {
    "equation": "Ctrl-E",
    "itemize": "Ctrl-I"
   },
   "labels_anchors": false,
   "latex_user_defs": false,
   "report_style_numbering": false,
   "user_envs_cfg": false
  },
  "varInspector": {
   "cols": {
    "lenName": 16,
    "lenType": 16,
    "lenVar": 40
   },
   "kernels_config": {
    "python": {
     "delete_cmd_postfix": "",
     "delete_cmd_prefix": "del ",
     "library": "var_list.py",
     "varRefreshCmd": "print(var_dic_list())"
    },
    "r": {
     "delete_cmd_postfix": ") ",
     "delete_cmd_prefix": "rm(",
     "library": "var_list.r",
     "varRefreshCmd": "cat(var_dic_list()) "
    }
   },
   "types_to_exclude": [
    "module",
    "function",
    "builtin_function_or_method",
    "instance",
    "_Feature"
   ],
   "window_display": false
  }
 },
 "nbformat": 4,
 "nbformat_minor": 2
}
